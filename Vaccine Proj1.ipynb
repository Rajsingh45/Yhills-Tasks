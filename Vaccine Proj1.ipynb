{
 "cells": [
  {
   "cell_type": "code",
   "execution_count": null,
   "id": "1123b527",
   "metadata": {},
   "outputs": [],
   "source": [
    "import numpy as np\n",
    "import pandas as pd\n",
    "import matplotlib.pyplot as plt\n",
    "import seaborn as sns\n",
    "%matplotlib inline\n",
    "from sklearn.model_selection import train_test_split\n",
    "import warnings\n",
    "warnings.filterwarnings(\"ignore\")"
   ]
  },
  {
   "cell_type": "code",
   "execution_count": null,
   "id": "8874df06",
   "metadata": {},
   "outputs": [],
   "source": [
    "df=pd.read_csv(\"h1n1_vaccine_prediction.csv\")"
   ]
  },
  {
   "cell_type": "code",
   "execution_count": null,
   "id": "47619fc0",
   "metadata": {
    "scrolled": false
   },
   "outputs": [],
   "source": [
    "df.head()"
   ]
  },
  {
   "cell_type": "code",
   "execution_count": null,
   "id": "61a8fce0",
   "metadata": {},
   "outputs": [],
   "source": [
    "df.shape"
   ]
  },
  {
   "cell_type": "code",
   "execution_count": null,
   "id": "06da5a41",
   "metadata": {},
   "outputs": [],
   "source": [
    "df.size"
   ]
  },
  {
   "cell_type": "code",
   "execution_count": null,
   "id": "64f7dba5",
   "metadata": {},
   "outputs": [],
   "source": [
    "df.dtypes\n",
    "pd.set_option(\"display.max_rows\",None)\n",
    "df\n"
   ]
  },
  {
   "cell_type": "code",
   "execution_count": null,
   "id": "08092685",
   "metadata": {},
   "outputs": [],
   "source": [
    "df.describe(include=\"all\")"
   ]
  },
  {
   "cell_type": "code",
   "execution_count": null,
   "id": "66f09555",
   "metadata": {},
   "outputs": [],
   "source": [
    "df=df.drop(['unique_id','race','income_level','qualification','marital_status','census_msa','has_health_insur','housing_status'],axis=1)"
   ]
  },
  {
   "cell_type": "code",
   "execution_count": null,
   "id": "5863993e",
   "metadata": {},
   "outputs": [],
   "source": [
    "df.isnull().sum()"
   ]
  },
  {
   "cell_type": "code",
   "execution_count": null,
   "id": "36c5487b",
   "metadata": {},
   "outputs": [],
   "source": [
    "df.info()"
   ]
  },
  {
   "cell_type": "code",
   "execution_count": null,
   "id": "36f539e7",
   "metadata": {},
   "outputs": [],
   "source": [
    "df.describe()"
   ]
  },
  {
   "cell_type": "code",
   "execution_count": null,
   "id": "12e1e9c0",
   "metadata": {},
   "outputs": [],
   "source": [
    "mode1=df['employment'].mode().values[0]\n",
    "df['employment']=df['employment'].replace(np.nan,mode1)"
   ]
  },
  {
   "cell_type": "code",
   "execution_count": null,
   "id": "07ffc03a",
   "metadata": {},
   "outputs": [],
   "source": [
    "df=pd.get_dummies(columns=[\"sex\",\"employment\",\"age_bracket\"],data=df)"
   ]
  },
  {
   "cell_type": "code",
   "execution_count": null,
   "id": "91ffa8bb",
   "metadata": {},
   "outputs": [],
   "source": [
    "df.info()"
   ]
  },
  {
   "cell_type": "code",
   "execution_count": null,
   "id": "224a6be2",
   "metadata": {},
   "outputs": [],
   "source": [
    "mean1=df['h1n1_worry'].mean()\n",
    "df['h1n1_worry']=df['h1n1_worry'].replace(np.nan,mean1)"
   ]
  },
  {
   "cell_type": "code",
   "execution_count": null,
   "id": "991a8780",
   "metadata": {},
   "outputs": [],
   "source": [
    "mean2=df['h1n1_awareness'].mean()\n",
    "df['h1n1_awareness']=df['h1n1_awareness'].replace(np.nan,mean2)"
   ]
  },
  {
   "cell_type": "code",
   "execution_count": null,
   "id": "8c127097",
   "metadata": {},
   "outputs": [],
   "source": [
    "mean3=df['antiviral_medication'].mean()\n",
    "df['antiviral_medication']=df['antiviral_medication'].replace(np.nan,mean3)"
   ]
  },
  {
   "cell_type": "code",
   "execution_count": null,
   "id": "015223cf",
   "metadata": {},
   "outputs": [],
   "source": [
    "mean4=df['contact_avoidance'].mean()\n",
    "df['contact_avoidance']=df['contact_avoidance'].replace(np.nan,mean4)"
   ]
  },
  {
   "cell_type": "code",
   "execution_count": null,
   "id": "8ba552ef",
   "metadata": {},
   "outputs": [],
   "source": [
    "mean5=df['bought_face_mask'].mean()\n",
    "df['bought_face_mask']=df['bought_face_mask'].replace(np.nan,mean5)"
   ]
  },
  {
   "cell_type": "code",
   "execution_count": null,
   "id": "de4c1e49",
   "metadata": {},
   "outputs": [],
   "source": [
    "mean6=df['wash_hands_frequently'].mean()\n",
    "df['wash_hands_frequently']=df['wash_hands_frequently'].replace(np.nan,mean6)"
   ]
  },
  {
   "cell_type": "code",
   "execution_count": null,
   "id": "eb2dd447",
   "metadata": {},
   "outputs": [],
   "source": [
    "mean7=df['avoid_large_gatherings'].mean()\n",
    "df['avoid_large_gatherings']=df['avoid_large_gatherings'].replace(np.nan,mean7)"
   ]
  },
  {
   "cell_type": "code",
   "execution_count": null,
   "id": "d379a7d7",
   "metadata": {},
   "outputs": [],
   "source": [
    "mean8=df['reduced_outside_home_cont'].mean()\n",
    "df['reduced_outside_home_cont']=df['reduced_outside_home_cont'].replace(np.nan,mean8)"
   ]
  },
  {
   "cell_type": "code",
   "execution_count": null,
   "id": "a006c829",
   "metadata": {},
   "outputs": [],
   "source": [
    "mean9=df['avoid_touch_face'].mean()\n",
    "df['avoid_touch_face']=df['avoid_touch_face'].replace(np.nan,mean9)"
   ]
  },
  {
   "cell_type": "code",
   "execution_count": null,
   "id": "5e95a88b",
   "metadata": {},
   "outputs": [],
   "source": [
    "mean10=df['dr_recc_h1n1_vacc'].mean()\n",
    "df['dr_recc_h1n1_vacc']=df['dr_recc_h1n1_vacc'].replace(np.nan,mean10)"
   ]
  },
  {
   "cell_type": "code",
   "execution_count": null,
   "id": "c3fc72cc",
   "metadata": {},
   "outputs": [],
   "source": [
    "mean11=df['dr_recc_seasonal_vacc'].mean()\n",
    "df['dr_recc_seasonal_vacc']=df['dr_recc_seasonal_vacc'].replace(np.nan,mean11)"
   ]
  },
  {
   "cell_type": "code",
   "execution_count": null,
   "id": "83d4cf12",
   "metadata": {},
   "outputs": [],
   "source": [
    "mean12=df['chronic_medic_condition'].mean()\n",
    "df['chronic_medic_condition']=df['chronic_medic_condition'].replace(np.nan,mean12)"
   ]
  },
  {
   "cell_type": "code",
   "execution_count": null,
   "id": "d381c422",
   "metadata": {},
   "outputs": [],
   "source": [
    "mean13=df['cont_child_undr_6_mnths'].mean()\n",
    "df['cont_child_undr_6_mnths']=df['cont_child_undr_6_mnths'].replace(np.nan,mean13)"
   ]
  },
  {
   "cell_type": "code",
   "execution_count": null,
   "id": "afed8442",
   "metadata": {},
   "outputs": [],
   "source": [
    "mean14=df['is_health_worker'].mean()\n",
    "df['is_health_worker']=df['is_health_worker'].replace(np.nan,mean14)"
   ]
  },
  {
   "cell_type": "code",
   "execution_count": null,
   "id": "724f42d0",
   "metadata": {},
   "outputs": [],
   "source": [
    "mean15=df['is_h1n1_vacc_effective'].mean()\n",
    "df['is_h1n1_vacc_effective']=df['is_h1n1_vacc_effective'].replace(np.nan,mean15)"
   ]
  },
  {
   "cell_type": "code",
   "execution_count": null,
   "id": "26c53217",
   "metadata": {},
   "outputs": [],
   "source": [
    "mean16=df['is_h1n1_risky'].mean()\n",
    "df['is_h1n1_risky']=df['is_h1n1_risky'].replace(np.nan,mean16)"
   ]
  },
  {
   "cell_type": "code",
   "execution_count": null,
   "id": "18d06efa",
   "metadata": {},
   "outputs": [],
   "source": [
    "mean17=df['sick_from_h1n1_vacc'].mean()\n",
    "df['sick_from_h1n1_vacc']=df['sick_from_h1n1_vacc'].replace(np.nan,mean17)"
   ]
  },
  {
   "cell_type": "code",
   "execution_count": null,
   "id": "94a626b0",
   "metadata": {},
   "outputs": [],
   "source": [
    "mean18=df['is_seas_vacc_effective'].mean()\n",
    "df['is_seas_vacc_effective']=df['is_seas_vacc_effective'].replace(np.nan,mean18)"
   ]
  },
  {
   "cell_type": "code",
   "execution_count": null,
   "id": "932b3db2",
   "metadata": {},
   "outputs": [],
   "source": [
    "mean19=df['is_seas_risky'].mean()\n",
    "df['is_seas_risky']=df['is_seas_risky'].replace(np.nan,mean19)"
   ]
  },
  {
   "cell_type": "code",
   "execution_count": null,
   "id": "cc259ef3",
   "metadata": {},
   "outputs": [],
   "source": [
    "mean20=df['sick_from_seas_vacc'].mean()\n",
    "df['sick_from_seas_vacc']=df['sick_from_seas_vacc'].replace(np.nan,mean20)"
   ]
  },
  {
   "cell_type": "code",
   "execution_count": null,
   "id": "7c39b97f",
   "metadata": {},
   "outputs": [],
   "source": [
    "mean21=df['no_of_adults'].mean()\n",
    "df['no_of_adults']=df['no_of_adults'].replace(np.nan,mean21)"
   ]
  },
  {
   "cell_type": "code",
   "execution_count": null,
   "id": "34a190d0",
   "metadata": {},
   "outputs": [],
   "source": [
    "mean22=df['no_of_children'].mean()\n",
    "df['no_of_children']=df['no_of_children'].replace(np.nan,mean22)"
   ]
  },
  {
   "cell_type": "code",
   "execution_count": null,
   "id": "4cfd2215",
   "metadata": {},
   "outputs": [],
   "source": [
    "df.isnull().sum()"
   ]
  },
  {
   "cell_type": "code",
   "execution_count": null,
   "id": "49971917",
   "metadata": {},
   "outputs": [],
   "source": [
    "from sklearn.linear_model import LogisticRegression"
   ]
  },
  {
   "cell_type": "code",
   "execution_count": null,
   "id": "9a9471e3",
   "metadata": {},
   "outputs": [],
   "source": [
    "X=df.drop(\"h1n1_vaccine\",axis=1)\n",
    "Y=df[\"h1n1_vaccine\"]"
   ]
  },
  {
   "cell_type": "code",
   "execution_count": null,
   "id": "643cb97b",
   "metadata": {},
   "outputs": [],
   "source": [
    "X_train,X_test,Y_train,Y_test=train_test_split(X,Y,test_size=0.30,random_state=1)"
   ]
  },
  {
   "cell_type": "code",
   "execution_count": null,
   "id": "773e8f46",
   "metadata": {},
   "outputs": [],
   "source": [
    "model=LogisticRegression()\n",
    "model.fit(X_train,Y_train)\n",
    "model"
   ]
  },
  {
   "cell_type": "code",
   "execution_count": null,
   "id": "a8a55403",
   "metadata": {},
   "outputs": [],
   "source": [
    "model.score(X_train,Y_train)"
   ]
  },
  {
   "cell_type": "code",
   "execution_count": null,
   "id": "092ae7c6",
   "metadata": {},
   "outputs": [],
   "source": [
    "model.score(X_test,Y_test)"
   ]
  },
  {
   "cell_type": "code",
   "execution_count": null,
   "id": "7ec19a08",
   "metadata": {},
   "outputs": [],
   "source": [
    "###Desicion Tree Classifier\n",
    "from sklearn.tree import DecisionTreeClassifier\n",
    "model_2=DecisionTreeClassifier(max_depth=3)\n",
    "model_2.fit(X_train,Y_train)"
   ]
  },
  {
   "cell_type": "code",
   "execution_count": null,
   "id": "126cf5c3",
   "metadata": {},
   "outputs": [],
   "source": [
    "model_2.score(X_train,Y_train)"
   ]
  },
  {
   "cell_type": "code",
   "execution_count": null,
   "id": "e7b76f0a",
   "metadata": {},
   "outputs": [],
   "source": [
    "model_2.score(X_test,Y_test)"
   ]
  },
  {
   "cell_type": "code",
   "execution_count": null,
   "id": "8f217470",
   "metadata": {},
   "outputs": [],
   "source": [
    "### Bagging Classifier\n",
    "from sklearn.ensemble import BaggingClassifier\n",
    "model_3=BaggingClassifier(n_estimators=50,base_estimator=model_2)\n",
    "model_3.fit(X_train,Y_train)"
   ]
  },
  {
   "cell_type": "code",
   "execution_count": null,
   "id": "84259946",
   "metadata": {},
   "outputs": [],
   "source": [
    "model_3.score(X_train,Y_train)"
   ]
  },
  {
   "cell_type": "code",
   "execution_count": null,
   "id": "5ea32613",
   "metadata": {},
   "outputs": [],
   "source": [
    "model_3.score(X_test,Y_test)"
   ]
  },
  {
   "cell_type": "code",
   "execution_count": null,
   "id": "3e9685b1",
   "metadata": {},
   "outputs": [],
   "source": [
    "### Boosting Classifier\n",
    "from sklearn.ensemble import AdaBoostClassifier\n",
    "model_4=AdaBoostClassifier(n_estimators=50)\n",
    "model_4.fit(X_train,Y_train)"
   ]
  },
  {
   "cell_type": "code",
   "execution_count": null,
   "id": "9910d296",
   "metadata": {},
   "outputs": [],
   "source": [
    "model_4.score(X_train,Y_train)"
   ]
  },
  {
   "cell_type": "code",
   "execution_count": null,
   "id": "78a06902",
   "metadata": {},
   "outputs": [],
   "source": [
    "model_4.score(X_test,Y_test)"
   ]
  },
  {
   "cell_type": "code",
   "execution_count": null,
   "id": "ca124ca4",
   "metadata": {},
   "outputs": [],
   "source": [
    "### Gradient Boosting\n",
    "from sklearn.ensemble import GradientBoostingClassifier\n",
    "model_5=GradientBoostingClassifier()\n",
    "model_5.fit(X_train,Y_train)"
   ]
  },
  {
   "cell_type": "code",
   "execution_count": null,
   "id": "78046720",
   "metadata": {},
   "outputs": [],
   "source": [
    "model_5.score(X_train,Y_train)"
   ]
  },
  {
   "cell_type": "code",
   "execution_count": null,
   "id": "80631aae",
   "metadata": {},
   "outputs": [],
   "source": [
    "model_5.score(X_test,Y_test)"
   ]
  },
  {
   "cell_type": "code",
   "execution_count": null,
   "id": "6526f3fa",
   "metadata": {},
   "outputs": [],
   "source": [
    "### Random Forest\n",
    "from sklearn.ensemble import RandomForestClassifier\n",
    "model_6=RandomForestClassifier(n_estimators=30)\n",
    "model_6.fit(X_train,Y_train)"
   ]
  },
  {
   "cell_type": "code",
   "execution_count": null,
   "id": "7182586f",
   "metadata": {},
   "outputs": [],
   "source": [
    "model_6.score(X_train,Y_train)"
   ]
  },
  {
   "cell_type": "code",
   "execution_count": null,
   "id": "d68a5dcf",
   "metadata": {},
   "outputs": [],
   "source": [
    "model_6.score(X_test,Y_test)"
   ]
  },
  {
   "cell_type": "code",
   "execution_count": null,
   "id": "10219a1b",
   "metadata": {},
   "outputs": [],
   "source": []
  }
 ],
 "metadata": {
  "kernelspec": {
   "display_name": "Python 3 (ipykernel)",
   "language": "python",
   "name": "python3"
  },
  "language_info": {
   "codemirror_mode": {
    "name": "ipython",
    "version": 3
   },
   "file_extension": ".py",
   "mimetype": "text/x-python",
   "name": "python",
   "nbconvert_exporter": "python",
   "pygments_lexer": "ipython3",
   "version": "3.8.10"
  }
 },
 "nbformat": 4,
 "nbformat_minor": 5
}
